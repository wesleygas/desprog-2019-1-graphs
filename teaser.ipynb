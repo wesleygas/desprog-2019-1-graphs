{
 "cells": [
  {
   "cell_type": "markdown",
   "metadata": {},
   "source": [
    "Teaser\n",
    "======\n",
    "\n",
    "Primeiramente, instale as bibliotecas necessárias. Em Linux, pode ser necessário substituir `pip` por `pip3`.\n",
    "\n",
    "    pip install plotly networkx\n",
    "\n",
    "A importação abaixo confirma se elas estão instaladas ou não. Note que não estamos importando essas bibliotecas diretamente. Estamos importando o arquivo `plotnetx.py`, que usa essas bibliotecas e deve estar na mesma pasta deste notebook."
   ]
  },
  {
   "cell_type": "code",
   "execution_count": null,
   "metadata": {},
   "outputs": [],
   "source": [
    "import plotnetx as px"
   ]
  },
  {
   "cell_type": "markdown",
   "metadata": {},
   "source": [
    "Carregando um grafo, em particular um *dirigido* (as arestas têm direção):"
   ]
  },
  {
   "cell_type": "code",
   "execution_count": null,
   "metadata": {},
   "outputs": [],
   "source": [
    "original = px.load('tree.gml')"
   ]
  },
  {
   "cell_type": "markdown",
   "metadata": {},
   "source": [
    "Listando os nós:"
   ]
  },
  {
   "cell_type": "code",
   "execution_count": null,
   "metadata": {},
   "outputs": [],
   "source": [
    "# Vamos trabalhar sobre uma cópia do grafo original,\n",
    "# para garantir que sempre começamos do mesmo estado.\n",
    "\n",
    "g = original.copy()\n",
    "\n",
    "# É importante enfatizar que não existe um tipo\n",
    "# especial que representa nós. Os nós de um grafo\n",
    "# podem ser qualquer coisa, e nesse caso particular\n",
    "# são inteiros. O que é mostrado no índice abaixo\n",
    "# não são índices nem nomes: são os próprios nós.\n",
    "\n",
    "for n in g.nodes:\n",
    "    print(n)"
   ]
  },
  {
   "cell_type": "markdown",
   "metadata": {},
   "source": [
    "Listando as arestas:"
   ]
  },
  {
   "cell_type": "code",
   "execution_count": null,
   "metadata": {},
   "outputs": [],
   "source": [
    "# Também não existe um tipo especial que representa\n",
    "# arestas. Uma aresta é simplesmente um par de nós.\n",
    "\n",
    "for n, m in g.edges:\n",
    "    print(n, m)"
   ]
  },
  {
   "cell_type": "markdown",
   "metadata": {},
   "source": [
    "Descobrindo os sucessores de cada nó:"
   ]
  },
  {
   "cell_type": "code",
   "execution_count": null,
   "metadata": {},
   "outputs": [],
   "source": [
    "# Sejam n, m nós. Dizemos que m é um sucessor\n",
    "# de n se existe uma aresta de n a m no grafo.\n",
    "\n",
    "for n in g.nodes:\n",
    "    print('sucessores de {}:'.format(n))\n",
    "\n",
    "    for m in g.successors(n):\n",
    "        print('    ', m)\n",
    "\n",
    "    print()"
   ]
  },
  {
   "cell_type": "markdown",
   "metadata": {},
   "source": [
    "Escrevendo e lendo atributos de nós:"
   ]
  },
  {
   "cell_type": "code",
   "execution_count": null,
   "metadata": {},
   "outputs": [],
   "source": [
    "# Cuidado para não confundir! No código abaixo,\n",
    "# g.nodes[0] não é um nó. O nó é o inteiro 0.\n",
    "# g.nodes[0] é o dicionário dos atributos de 0.\n",
    "\n",
    "g.nodes[0]['abobrinha'] = 10\n",
    "\n",
    "# Existem alguns atributos pré-definidos. No\n",
    "# código abaixo, imprimimos o atributo 'pos'\n",
    "# do nó 1. Esse atributo veio do arquivo GML.\n",
    "\n",
    "print(g.nodes[1]['pos'])"
   ]
  },
  {
   "cell_type": "markdown",
   "metadata": {},
   "source": [
    "Mostrando um grafo:"
   ]
  },
  {
   "cell_type": "code",
   "execution_count": null,
   "metadata": {},
   "outputs": [],
   "source": [
    "px.show(g)"
   ]
  },
  {
   "cell_type": "markdown",
   "metadata": {},
   "source": [
    "Colocando rótulos nos nós:"
   ]
  },
  {
   "cell_type": "code",
   "execution_count": null,
   "metadata": {},
   "outputs": [],
   "source": [
    "g.nodes[0]['label'] = 'X'\n",
    "\n",
    "px.show(g)"
   ]
  },
  {
   "cell_type": "markdown",
   "metadata": {},
   "source": [
    "Usando os próprios nós como rótulos."
   ]
  },
  {
   "cell_type": "code",
   "execution_count": null,
   "metadata": {},
   "outputs": [],
   "source": [
    "px.label_nodes(g)\n",
    "\n",
    "px.show(g)"
   ]
  },
  {
   "cell_type": "markdown",
   "metadata": {},
   "source": [
    "Varrendo todos os nós em ordem de *busca em profundidade*:"
   ]
  },
  {
   "cell_type": "code",
   "execution_count": null,
   "metadata": {},
   "outputs": [],
   "source": [
    "stack = []\n",
    "\n",
    "# Na figura acima, podemos ver que a raiz é\n",
    "# o nó 5, portanto a pilha começa com esse.\n",
    "stack.append(5)\n",
    "\n",
    "# Inicializa a animação.\n",
    "px.start()\n",
    "\n",
    "# Limpa as cores dos nós.\n",
    "px.set_nodes_color(g)\n",
    "\n",
    "while stack:\n",
    "    n = stack.pop()\n",
    "\n",
    "    g.nodes[n]['color'] = (255, 0, 0)\n",
    "\n",
    "    for m in g.successors(n):\n",
    "        stack.append(m)\n",
    "\n",
    "    # Tira uma foto e adiciona à animação.\n",
    "    px.rec(g)\n",
    "\n",
    "# Mostra a animação.\n",
    "px.play()"
   ]
  },
  {
   "cell_type": "markdown",
   "metadata": {},
   "source": [
    "Varrendo todos os nós em ordem de *busca em largura*:"
   ]
  },
  {
   "cell_type": "code",
   "execution_count": null,
   "metadata": {},
   "outputs": [],
   "source": [
    "from queue import Queue\n",
    "\n",
    "queue = Queue()\n",
    "\n",
    "# Na figura acima, podemos ver que a raiz é\n",
    "# o nó 5, portanto a fila começa com esse.\n",
    "queue.put(5)\n",
    "\n",
    "# Inicializa a animação.\n",
    "px.start()\n",
    "\n",
    "# Limpa as cores dos nós.\n",
    "px.set_nodes_color(g)\n",
    "\n",
    "while not queue.empty():\n",
    "    n = queue.get()\n",
    "\n",
    "    g.nodes[n]['color'] = (255, 0, 0)\n",
    "\n",
    "    for m in g.successors(n):\n",
    "        queue.put(m)\n",
    "\n",
    "    # Tira uma foto e adiciona à animação.\n",
    "    px.rec(g)\n",
    "\n",
    "# Mostra a animação.\n",
    "px.play()"
   ]
  },
  {
   "cell_type": "markdown",
   "metadata": {},
   "source": [
    "Carregando outro grafo, desta vez um *não-dirigido* (as arestas não têm direção):"
   ]
  },
  {
   "cell_type": "code",
   "execution_count": null,
   "metadata": {},
   "outputs": [],
   "source": [
    "original = px.load('graph.gml')\n",
    "\n",
    "g = original.copy()\n",
    "\n",
    "px.label_nodes(g)\n",
    "\n",
    "# Que tal diminuir um pouco?\n",
    "g.graph['width'] = 400\n",
    "g.graph['height'] = 225\n",
    "\n",
    "px.show(g)"
   ]
  },
  {
   "cell_type": "markdown",
   "metadata": {},
   "source": [
    "Varrendo todos os nós em ordem de *busca em profundidade*:"
   ]
  },
  {
   "cell_type": "code",
   "execution_count": null,
   "metadata": {},
   "outputs": [],
   "source": [
    "stack = []\n",
    "\n",
    "# Vamos escolher o 1 como ponto inicial.\n",
    "# Nenhum motivo em particular. A princípio,\n",
    "# o código deveria funcionar para qualquer\n",
    "# ponto inicial. Experimente trocar!\n",
    "stack.append(5)\n",
    "\n",
    "px.start()\n",
    "\n",
    "px.set_nodes_color(g)\n",
    "\n",
    "while stack:\n",
    "    n = stack.pop()\n",
    "\n",
    "    g.nodes[n]['color'] = (255, 0, 0)\n",
    "\n",
    "    # Em grafos não-dirigidos, temos o conceito\n",
    "    # de vizinhos em vez de sucessores. Note que\n",
    "    # esse conceito é simétrico, ou seja, se n\n",
    "    # é vizinho de m, então m é vizinho de n.\n",
    "    # Isso não é verdade para sucessores, pois\n",
    "    # em grafos dirigidos a direção importa.\n",
    "    for m in g.neighbors(n):\n",
    "\n",
    "        # Aqui uma diferença fundamental! Em\n",
    "        # árvores, não precisamos nos preocupar\n",
    "        # se já visitamos um nó antes ou não.\n",
    "        # Nesse novo grafo precisamos nos\n",
    "        # preocupar ou entramos em loop infinito!\n",
    "        if g.nodes[m]['color'] != (255, 0, 0):\n",
    "            stack.append(m)\n",
    "\n",
    "    px.rec(g)\n",
    "\n",
    "px.play()\n",
    "\n",
    "# Você consegue modificar o código para evitar\n",
    "# os frames de animação em que nada acontece?"
   ]
  },
  {
   "cell_type": "markdown",
   "metadata": {},
   "source": [
    "Varrendo todos os nós em ordem de *busca em largura*:"
   ]
  },
  {
   "cell_type": "code",
   "execution_count": null,
   "metadata": {},
   "outputs": [],
   "source": [
    "from queue import Queue\n",
    "\n",
    "queue = Queue()\n",
    "\n",
    "# Vamos escolher o 1 como ponto inicial.\n",
    "# Nenhum motivo em particular. A princípio,\n",
    "# o código deveria funcionar para qualquer\n",
    "# ponto inicial. Experimente trocar!\n",
    "queue.put(5)\n",
    "\n",
    "px.start()\n",
    "\n",
    "px.set_nodes_color(g)\n",
    "\n",
    "while not queue.empty():\n",
    "    n = queue.get()\n",
    "\n",
    "    g.nodes[n]['color'] = (255, 0, 0)\n",
    "\n",
    "    # Em grafos não-dirigidos, temos o conceito\n",
    "    # de vizinhos em vez de sucessores. Note que\n",
    "    # esse conceito é simétrico, ou seja, se n\n",
    "    # é vizinho de m, então m é vizinho de n.\n",
    "    # Isso não é verdade para sucessores, pois\n",
    "    # em grafos dirigidos a direção importa.\n",
    "    for m in g.neighbors(n):\n",
    "\n",
    "        # Aqui uma diferença fundamental! Em\n",
    "        # árvores, não precisamos nos preocupar\n",
    "        # se já visitamos um nó antes ou não.\n",
    "        # Nesse novo grafo precisamos nos\n",
    "        # preocupar ou entramos em loop infinito!\n",
    "        if g.nodes[m]['color'] != (255, 0, 0):\n",
    "            queue.put(m)\n",
    "\n",
    "    px.rec(g)\n",
    "\n",
    "px.play()\n",
    "\n",
    "# Você consegue modificar o código para evitar\n",
    "# os frames de animação em que nada acontece?"
   ]
  },
  {
   "cell_type": "markdown",
   "metadata": {},
   "source": [
    "Se você está vendo espaços em branco em vez das imagens e animações, tente os passos abaixo.\n",
    "\n",
    "1. Confirme que nenhuma célula está lançando exceção. Se alguma estiver, resolva antes de continuar.\n",
    "\n",
    "2. Confirme que sua máquina está conectada à Internet. Se não estiver, reconecte antes de continuar.\n",
    "\n",
    "3. Na barra de menu, selecione *Cell → All Output → Clear*.\n",
    "\n",
    "4. Salve este notebook, seja pela barra de ferramentas ou pelo atalho *Ctrl+S*.\n",
    "\n",
    "5. Feche o notebook, ou seja, feche a aba do navegador no qual ele está aberto.\n",
    "\n",
    "6. No gerenciador de arquivos do *Jupyter*, selecione este notebook e clique no botão *Shutdown*.\n",
    "\n",
    "7. Abra o notebook novamente.\n",
    "\n",
    "Se nenhum desses passos funcionar, venha falar comigo."
   ]
  }
 ],
 "metadata": {
  "kernelspec": {
   "display_name": "Python 3",
   "language": "python",
   "name": "python3"
  },
  "language_info": {
   "codemirror_mode": {
    "name": "ipython",
    "version": 3
   },
   "file_extension": ".py",
   "mimetype": "text/x-python",
   "name": "python",
   "nbconvert_exporter": "python",
   "pygments_lexer": "ipython3",
   "version": "3.7.0"
  }
 },
 "nbformat": 4,
 "nbformat_minor": 2
}
